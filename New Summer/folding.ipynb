{
 "cells": [
  {
   "cell_type": "code",
   "execution_count": null,
   "id": "e345197e",
   "metadata": {},
   "outputs": [],
   "source": [
    "import pandas as pd\n",
    "import lightkurve as lk\n",
    "\n",
    "aavso_lightcuvre = pd.read_csv(\"/Users/mridul/Desktop/CV-Analyzer-Kate/New Summer/aavso_data.csv\")\n",
    "\n",
    "aavso_lightcuvre = aavso_lightcuvre.rename(columns={'JD': 'time', 'Magnitude': 'flux'})\n",
    "aavso_lightcuvre['flux_err'] = 0\n",
    "\n",
    "# Convert flux to numeric, removing non-float values\n",
    "aavso_lightcuvre['flux'] = pd.to_numeric(aavso_lightcuvre['flux'], errors='coerce')\n",
    "aavso_lightcuvre = aavso_lightcuvre.dropna(subset=['flux'])\n",
    "aavso_lightcuvre['flux'] = aavso_lightcuvre['flux'].astype(float)\n",
    "\n",
    "aavso_lightcuvre"
   ]
  },
  {
   "cell_type": "code",
   "execution_count": null,
   "id": "aaf8854c",
   "metadata": {},
   "outputs": [],
   "source": [
    "lc = {\n",
    "    \"time\" : aavso_lightcuvre['time'],\n",
    "    \"flux\" : aavso_lightcuvre['flux'],\n",
    "    \"flux_err\" : aavso_lightcuvre['flux_err']\n",
    "}"
   ]
  },
  {
   "cell_type": "code",
   "execution_count": null,
   "id": "7fdf1930",
   "metadata": {},
   "outputs": [],
   "source": [
    "lightcurve = lk.LightCurve(lc)"
   ]
  },
  {
   "cell_type": "code",
   "execution_count": null,
   "id": "dc7c99a0",
   "metadata": {},
   "outputs": [],
   "source": [
    "%matplotlib widget\n",
    "lightcurve.fold(period = 0.086).plot()"
   ]
  },
  {
   "cell_type": "code",
   "execution_count": null,
   "id": "4a987cb3",
   "metadata": {},
   "outputs": [],
   "source": [
    "def bin(lightcurve: lk.LightCurve):\n",
    "    lightcurve.bin(time_bin_size=0.01).plot()\n",
    "\n",
    "bin(lightcurve)"
   ]
  }
 ],
 "metadata": {
  "kernelspec": {
   "display_name": "Python 3",
   "language": "python",
   "name": "python3"
  },
  "language_info": {
   "codemirror_mode": {
    "name": "ipython",
    "version": 3
   },
   "file_extension": ".py",
   "mimetype": "text/x-python",
   "name": "python",
   "nbconvert_exporter": "python",
   "pygments_lexer": "ipython3",
   "version": "3.11.13"
  }
 },
 "nbformat": 4,
 "nbformat_minor": 5
}
