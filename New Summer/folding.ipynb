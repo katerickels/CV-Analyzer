{
 "cells": [
  {
   "cell_type": "code",
   "execution_count": null,
   "id": "e345197e",
   "metadata": {},
   "outputs": [
    {
     "ename": "AttributeError",
     "evalue": "type object 'LightCurve' has no attribute 'LightCurve'",
     "output_type": "error",
     "traceback": [
      "\u001b[0;31m---------------------------------------------------------------------------\u001b[0m",
      "\u001b[0;31mAttributeError\u001b[0m                            Traceback (most recent call last)",
      "Cell \u001b[0;32mIn[6], line 4\u001b[0m\n\u001b[1;32m      1\u001b[0m \u001b[38;5;28;01mimport\u001b[39;00m \u001b[38;5;21;01mpandas\u001b[39;00m \u001b[38;5;28;01mas\u001b[39;00m \u001b[38;5;21;01mpd\u001b[39;00m\n\u001b[1;32m      2\u001b[0m \u001b[38;5;28;01mimport\u001b[39;00m \u001b[38;5;21;01mlightkurve\u001b[39;00m \u001b[38;5;28;01mas\u001b[39;00m \u001b[38;5;21;01mlk\u001b[39;00m\n\u001b[0;32m----> 4\u001b[0m \u001b[43mlk\u001b[49m\u001b[38;5;241;43m.\u001b[39;49m\u001b[43mLightCurve\u001b[49m\u001b[38;5;241;43m.\u001b[39;49m\u001b[43mLightCurve\u001b[49m()\n\u001b[1;32m      6\u001b[0m aavso_lightcuvre \u001b[38;5;241m=\u001b[39m pd\u001b[38;5;241m.\u001b[39mread_csv(\u001b[38;5;124m\"\u001b[39m\u001b[38;5;124m/Users/mridul/Desktop/CV-Analyzer-Kate/New Summer/aavso_data.csv\u001b[39m\u001b[38;5;124m\"\u001b[39m)\n",
      "\u001b[0;31mAttributeError\u001b[0m: type object 'LightCurve' has no attribute 'LightCurve'"
     ]
    }
   ],
   "source": [
    "import pandas as pd\n",
    "import lightkurve as lk\n",
    "\n",
    "aavso_lightcuvre = pd.read_csv(\"/Users/mridul/Desktop/CV-Analyzer-Kate/New Summer/aavso_data.csv\")"
   ]
  },
  {
   "cell_type": "code",
   "execution_count": 4,
   "id": "aaf8854c",
   "metadata": {},
   "outputs": [
    {
     "data": {
      "text/html": [
       "<div>\n",
       "<style scoped>\n",
       "    .dataframe tbody tr th:only-of-type {\n",
       "        vertical-align: middle;\n",
       "    }\n",
       "\n",
       "    .dataframe tbody tr th {\n",
       "        vertical-align: top;\n",
       "    }\n",
       "\n",
       "    .dataframe thead th {\n",
       "        text-align: right;\n",
       "    }\n",
       "</style>\n",
       "<table border=\"1\" class=\"dataframe\">\n",
       "  <thead>\n",
       "    <tr style=\"text-align: right;\">\n",
       "      <th></th>\n",
       "      <th>time</th>\n",
       "      <th>flux</th>\n",
       "      <th>flux_err</th>\n",
       "    </tr>\n",
       "  </thead>\n",
       "  <tbody>\n",
       "    <tr>\n",
       "      <th>0</th>\n",
       "      <td>2.452375e+06</td>\n",
       "      <td>14.612</td>\n",
       "      <td>0</td>\n",
       "    </tr>\n",
       "    <tr>\n",
       "      <th>1</th>\n",
       "      <td>2.452375e+06</td>\n",
       "      <td>14.535</td>\n",
       "      <td>0</td>\n",
       "    </tr>\n",
       "    <tr>\n",
       "      <th>2</th>\n",
       "      <td>2.452375e+06</td>\n",
       "      <td>14.595</td>\n",
       "      <td>0</td>\n",
       "    </tr>\n",
       "    <tr>\n",
       "      <th>3</th>\n",
       "      <td>2.452375e+06</td>\n",
       "      <td>14.481</td>\n",
       "      <td>0</td>\n",
       "    </tr>\n",
       "    <tr>\n",
       "      <th>4</th>\n",
       "      <td>2.452375e+06</td>\n",
       "      <td>14.627</td>\n",
       "      <td>0</td>\n",
       "    </tr>\n",
       "    <tr>\n",
       "      <th>...</th>\n",
       "      <td>...</td>\n",
       "      <td>...</td>\n",
       "      <td>...</td>\n",
       "    </tr>\n",
       "    <tr>\n",
       "      <th>6749</th>\n",
       "      <td>2.460450e+06</td>\n",
       "      <td>&lt;16.2</td>\n",
       "      <td>0</td>\n",
       "    </tr>\n",
       "    <tr>\n",
       "      <th>6750</th>\n",
       "      <td>2.460451e+06</td>\n",
       "      <td>&lt;16.2</td>\n",
       "      <td>0</td>\n",
       "    </tr>\n",
       "    <tr>\n",
       "      <th>6751</th>\n",
       "      <td>2.460642e+06</td>\n",
       "      <td>&lt;16.2</td>\n",
       "      <td>0</td>\n",
       "    </tr>\n",
       "    <tr>\n",
       "      <th>6752</th>\n",
       "      <td>2.460673e+06</td>\n",
       "      <td>&lt;16.2</td>\n",
       "      <td>0</td>\n",
       "    </tr>\n",
       "    <tr>\n",
       "      <th>6753</th>\n",
       "      <td>2.460701e+06</td>\n",
       "      <td>&lt;16.2</td>\n",
       "      <td>0</td>\n",
       "    </tr>\n",
       "  </tbody>\n",
       "</table>\n",
       "<p>6754 rows × 3 columns</p>\n",
       "</div>"
      ],
      "text/plain": [
       "              time    flux  flux_err\n",
       "0     2.452375e+06  14.612         0\n",
       "1     2.452375e+06  14.535         0\n",
       "2     2.452375e+06  14.595         0\n",
       "3     2.452375e+06  14.481         0\n",
       "4     2.452375e+06  14.627         0\n",
       "...            ...     ...       ...\n",
       "6749  2.460450e+06   <16.2         0\n",
       "6750  2.460451e+06   <16.2         0\n",
       "6751  2.460642e+06   <16.2         0\n",
       "6752  2.460673e+06   <16.2         0\n",
       "6753  2.460701e+06   <16.2         0\n",
       "\n",
       "[6754 rows x 3 columns]"
      ]
     },
     "execution_count": 4,
     "metadata": {},
     "output_type": "execute_result"
    }
   ],
   "source": [
    "aavso_lightcuvre = aavso_lightcuvre.rename(columns={'JD': 'time', 'Magnitude': 'flux'})\n",
    "aavso_lightcuvre['flux_err'] = 0\n",
    "aavso_lightcuvre"
   ]
  },
  {
   "cell_type": "code",
   "execution_count": null,
   "id": "7fdf1930",
   "metadata": {},
   "outputs": [
    {
     "ename": "NameError",
     "evalue": "name 'lk' is not defined",
     "output_type": "error",
     "traceback": [
      "\u001b[0;31m---------------------------------------------------------------------------\u001b[0m",
      "\u001b[0;31mNameError\u001b[0m                                 Traceback (most recent call last)",
      "Cell \u001b[0;32mIn[5], line 1\u001b[0m\n\u001b[0;32m----> 1\u001b[0m lightcurve \u001b[38;5;241m=\u001b[39m \u001b[43mlk\u001b[49m\u001b[38;5;241m.\u001b[39mLightCurve\u001b[38;5;241m.\u001b[39mLightCurve(aavso_lightcurve)\n",
      "\u001b[0;31mNameError\u001b[0m: name 'lk' is not defined"
     ]
    }
   ],
   "source": [
    "lightcurve = lk.LightCurve.LightCurve(aavso_lightcuvre)"
   ]
  }
 ],
 "metadata": {
  "kernelspec": {
   "display_name": "Python 3",
   "language": "python",
   "name": "python3"
  },
  "language_info": {
   "codemirror_mode": {
    "name": "ipython",
    "version": 3
   },
   "file_extension": ".py",
   "mimetype": "text/x-python",
   "name": "python",
   "nbconvert_exporter": "python",
   "pygments_lexer": "ipython3",
   "version": "3.11.13"
  }
 },
 "nbformat": 4,
 "nbformat_minor": 5
}
